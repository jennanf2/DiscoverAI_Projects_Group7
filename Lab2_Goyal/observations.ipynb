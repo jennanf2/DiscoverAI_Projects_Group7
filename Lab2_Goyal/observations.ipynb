{
    "metadata": {
        "kernelspec": {
            "name": "python3",
            "display_name": "Python 3 (ipykernel)",
            "language": "python"
        }
    },
    "nbformat": 4,
    "nbformat_minor": 2,
    "cells": [
        {
            "attachments": {},
            "cell_type": "markdown",
            "metadata": {},
            "source": [
                "**Describe the problem that you chose to solve. How is it related to the topic that your team will investigate for the Discover AI project?**"
            ]
        },
        {
            "attachments": {},
            "cell_type": "markdown",
            "metadata": {},
            "source": [
                "We chose to do supervised learning module since we're doing our project on google maps' AI which uses supervised learning to an extent for image recogonition."
            ]
        },
        {
            "attachments": {},
            "cell_type": "markdown",
            "metadata": {},
            "source": [
                "**Did you have to clean your dataset? If yes, desribe what you did.**"
            ]
        },
        {
            "attachments": {},
            "cell_type": "markdown",
            "metadata": {},
            "source": [
                "we had to remove non existent values from the X columns to get the appropriate output"
            ]
        },
        {
            "attachments": {},
            "cell_type": "markdown",
            "metadata": {},
            "source": [
                "**Did the program run successfully? If yes, summarise the results, otherwise, describe what went wrong and your attempt(s) to fix it.**"
            ]
        },
        {
            "attachments": {},
            "cell_type": "markdown",
            "metadata": {},
            "source": [
                "yes the program was pretty straightforward and ran successfully. we were able to predict with a 98.33% accuracy the correct drug required basen on the varrious metrics. "
            ]
        },
        {
            "attachments": {},
            "cell_type": "markdown",
            "metadata": {},
            "source": [
                "**Submit the link to your group's github**"
            ]
        },
        {
            "attachments": {},
            "cell_type": "markdown",
            "metadata": {},
            "source": [
                "https://github.com/jennanf2/DiscoverAI_Projects_Group7.git"
            ]
        }
    ]
}
