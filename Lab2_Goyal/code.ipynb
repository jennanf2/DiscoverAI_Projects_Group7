{
    "metadata": {
        "kernelspec": {
            "name": "python3",
            "display_name": "Python 3 (ipykernel)",
            "language": "python"
        }
    },
    "nbformat": 4,
    "nbformat_minor": 2,
    "cells": [
        {
            "attachments": {},
            "cell_type": "markdown",
            "metadata": {},
            "source": [
                "# **Drugs A, B, C, X, Y for Decision Trees**"
            ]
        },
        {
            "attachments": {},
            "cell_type": "markdown",
            "metadata": {},
            "source": [
                "The code below is taken from Pablo M Gomez's submission on [kaggle.com](https://www.kaggle.com/pablomgomez21/decision-trees-practice).\n",
                "\n",
                "You are encouraged to go to the link above and check the full code. In this lab, you will do the necessary steps to explore the data and prepare it for sklearn algorithms."
            ]
        },
        {
            "attachments": {},
            "cell_type": "markdown",
            "metadata": {},
            "source": [
                "**About the data set**"
            ]
        },
        {
            "attachments": {},
            "cell_type": "markdown",
            "metadata": {},
            "source": [
                "Imagine that you are a medical researcher compiling data for a study. You have collected data about a set of patients, all of whom suffered from the same illness. During their course of treatment, each patient responded to one of 5 medications, Drug A, Drug B, Drug c, Drug x and y.\n",
                "\n",
                "Part of your job is to build a model to find out which drug might be appropriate for a future patient with the same illness. The features of this dataset are Age, Sex, Blood Pressure, and the Cholesterol of the patients, and the target is the drug that each patient responded to.\n",
                "\n",
                "It is a sample of multiclass classifier, and you can use the training part of the dataset to build a decision tree, and then use it to predict the class of a unknown patient, or to prescribe a drug to a new patient."
            ]
        },
        {
            "attachments": {},
            "cell_type": "markdown",
            "metadata": {},
            "source": [
                "**Import libraries**"
            ]
        },
        {
            "cell_type": "code",
            "execution_count": 0,
            "metadata": {},
            "outputs": [],
            "source": [
                "import numpy as np # linear algebra\n",
                "import pandas as pd # data processing, CSV file I/O (e.g. pd.read_csv)\n",
                "\n",
                "# import required sklearn libraries for Decision Tree Classifier\n",
                "import sklearn\n",
                "from sklearn.tree import DecisionTreeClassifier\n",
                "from sklearn import preprocessing\n",
                "from sklearn.model_selection import train_test_split"
            ]
        },
        {
            "attachments": {},
            "cell_type": "markdown",
            "metadata": {},
            "source": [
                "# Acquire data"
            ]
        },
        {
            "cell_type": "code",
            "execution_count": 0,
            "metadata": {},
            "outputs": [],
            "source": [
                "# Read in the data using panda's read_csv method\n",
                "my_data = pd.read_csv(\"SupervisedLearning/DrugSelection/drug200.csv\")\n",
                "\n",
                "#TODO: Write code to inspect the first five rows of the dataframe\n",
                ""
            ]
        },
        {
            "attachments": {},
            "cell_type": "markdown",
            "metadata": {},
            "source": [
                "# Inspect data"
            ]
        },
        {
            "cell_type": "code",
            "execution_count": 0,
            "metadata": {},
            "outputs": [],
            "source": [
                "#TODO: Write code to inspect the shape of the data frame\n",
                ""
            ]
        },
        {
            "cell_type": "code",
            "execution_count": 0,
            "metadata": {},
            "outputs": [],
            "source": [
                "#TODO: Write code to display information about the data frame\n",
                ""
            ]
        },
        {
            "cell_type": "code",
            "execution_count": 0,
            "metadata": {},
            "outputs": [],
            "source": [
                "#TODO: Write code to display statistics about the data frame\n",
                ""
            ]
        },
        {
            "attachments": {},
            "cell_type": "markdown",
            "metadata": {},
            "source": [
                "# Clean data"
            ]
        },
        {
            "attachments": {},
            "cell_type": "markdown",
            "metadata": {},
            "source": [
                "**Correcting**"
            ]
        },
        {
            "cell_type": "code",
            "execution_count": 0,
            "metadata": {},
            "outputs": [],
            "source": [
                "#TODO: Write code to drop rows having missing values\n",
                ""
            ]
        },
        {
            "attachments": {},
            "cell_type": "markdown",
            "metadata": {},
            "source": [
                "**Converting**"
            ]
        },
        {
            "attachments": {},
            "cell_type": "markdown",
            "metadata": {},
            "source": [
                "Declare two variables:\n",
                "\n",
                "* X: feature matrix with the data \n",
                "* y: response vector with target information[link text](https://)\n",
                ""
            ]
        },
        {
            "cell_type": "code",
            "execution_count": 0,
            "metadata": {},
            "outputs": [],
            "source": [
                "#TODO: Write code to declare X\n",
                "# Hint: remove the column containing the target of this prediction problem\n",
                "# Note: To run the next section, X is expected to be an array. \n",
                "# You can get an array from a data frame with: X = X.values\n",
                "\n",
                "#TODO: Write code to inspect the first five rows of X\n",
                "# Note: If X is an array, instead of using the head() function,\n",
                "# you will need to use array functionality to output the first five values.\n",
                " "
            ]
        },
        {
            "attachments": {},
            "cell_type": "markdown",
            "metadata": {},
            "source": [
                "As you may figure out, some features in this dataset are categorical, such as **Sex** or **BP**. Unfortunately, Sklearn Decision Trees does not handle categorical variables. We can still convert these features to numerical values using **pandas.get_dummies()** to convert the categorical variable into dummy/indicator variables.\n",
                "\n",
                "**Note:** If you run this block once, in order to run it again, you will need to redeclare X in the previous block or it will throw errors trying to convert data it has already converted."
            ]
        },
        {
            "cell_type": "code",
            "execution_count": 0,
            "metadata": {},
            "outputs": [],
            "source": [
                "# Define a label encoder for the sex feature to be 0 or 1\n",
                "# X is expected to be an array here. If it's a dataframe, get the array version by running:\n",
                "# X = X.values\n",
                "\n",
                "le_sex = preprocessing.LabelEncoder()\n",
                "le_sex.fit(['F','M'])\n",
                "X[:,1] = le_sex.transform(X[:,1]) \n",
                "\n",
                "#TODO: Write code to encode the BP feature in X[:,2]\n",
                "# from 'Low', 'NORMAL', 'HIGH', to 0, 1, 2\n",
                "\n",
                "\n",
                "# Define a label encoder for the Chol feature to be 0 or 1\n",
                "le_Chol = preprocessing.LabelEncoder()\n",
                "le_Chol.fit([ 'NORMAL', 'HIGH'])\n",
                "X[:,3] = le_Chol.transform(X[:,3]) \n",
                "\n",
                "X[0:5]"
            ]
        },
        {
            "cell_type": "code",
            "execution_count": 0,
            "metadata": {},
            "outputs": [],
            "source": [
                "#TODO: Write code to declare y\n",
                "# Hint: this is the column containing the target of this prediction problem\n",
                "\n",
                "#TODO: Write code to inspect the first five rows of y\n",
                " "
            ]
        },
        {
            "attachments": {},
            "cell_type": "markdown",
            "metadata": {},
            "source": [
                "# Earn Your Wings"
            ]
        },
        {
            "attachments": {},
            "cell_type": "markdown",
            "metadata": {},
            "source": [
                "Use a decision tree classifier on the cleaned data set to predict y for the given data. Report the accuracy score. Add comments in your code to explain each step that you take in your implementation."
            ]
        }
    ]
}
